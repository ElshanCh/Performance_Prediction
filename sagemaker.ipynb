{
 "cells": [
  {
   "cell_type": "code",
   "execution_count": 5,
   "metadata": {},
   "outputs": [
    {
     "name": "stdout",
     "output_type": "stream",
     "text": [
      "Using bucket forecasting-performance\n"
     ]
    }
   ],
   "source": [
    "import botocore\n",
    "import boto3\n",
    "import datetime\n",
    "from dateutil.tz import tzlocal\n",
    "import os\n",
    "os.environ['AWS_DEFAULT_REGION'] = 'eu-central-1' \n",
    "\n",
    "assume_role_cache: dict = {}\n",
    "def assumed_role_session(role_arn: str, base_session: botocore.session.Session = None):\n",
    "    base_session = base_session or boto3.session.Session()._session\n",
    "    fetcher = botocore.credentials.AssumeRoleCredentialFetcher(\n",
    "        client_creator = base_session.create_client,\n",
    "        source_credentials = base_session.get_credentials(),\n",
    "        role_arn = role_arn,\n",
    "        extra_args = {\n",
    "        #    'RoleSessionName': None # set this if you want something non-default\n",
    "        }\n",
    "    )\n",
    "    creds = botocore.credentials.DeferredRefreshableCredentials(\n",
    "        method = 'assume-role',\n",
    "        refresh_using = fetcher.fetch_credentials,\n",
    "        time_fetcher = lambda: datetime.datetime.now(tzlocal())\n",
    "    )\n",
    "    botocore_session = botocore.session.Session()\n",
    "    botocore_session._credentials = creds\n",
    "    return boto3.Session(botocore_session = botocore_session)\n",
    "\n",
    "# usage:\n",
    "session = assumed_role_session('arn:aws:iam::652226517449:role/Assume-role-Developer')\n",
    "sm_boto3 = session.client('sagemaker') # ... etc."
   ]
  },
  {
   "cell_type": "code",
   "execution_count": 14,
   "metadata": {},
   "outputs": [
    {
     "ename": "TypeError",
     "evalue": "Session.__init__() got an unexpected keyword argument 'profile_name'",
     "output_type": "error",
     "traceback": [
      "\u001b[0;31m---------------------------------------------------------------------------\u001b[0m",
      "\u001b[0;31mTypeError\u001b[0m                                 Traceback (most recent call last)",
      "Cell \u001b[0;32mIn[14], line 2\u001b[0m\n\u001b[1;32m      1\u001b[0m sm_boto3 \u001b[38;5;241m=\u001b[39m boto3\u001b[38;5;241m.\u001b[39mclient(\u001b[38;5;124m\"\u001b[39m\u001b[38;5;124msagemaker\u001b[39m\u001b[38;5;124m\"\u001b[39m)\n\u001b[0;32m----> 2\u001b[0m sess \u001b[38;5;241m=\u001b[39m \u001b[43msagemaker\u001b[49m\u001b[38;5;241;43m.\u001b[39;49m\u001b[43mSession\u001b[49m\u001b[43m(\u001b[49m\u001b[43mprofile_name\u001b[49m\u001b[38;5;241;43m=\u001b[39;49m\u001b[38;5;124;43m\"\u001b[39;49m\u001b[38;5;124;43mAssume-role-Developer\u001b[39;49m\u001b[38;5;124;43m\"\u001b[39;49m\u001b[43m)\u001b[49m\n\u001b[1;32m      3\u001b[0m region \u001b[38;5;241m=\u001b[39m sess\u001b[38;5;241m.\u001b[39mboto_session\u001b[38;5;241m.\u001b[39mregion_name\n\u001b[1;32m      4\u001b[0m bucket \u001b[38;5;241m=\u001b[39m \u001b[38;5;124m\"\u001b[39m\u001b[38;5;124mforecasting-performance\u001b[39m\u001b[38;5;124m\"\u001b[39m\n",
      "\u001b[0;31mTypeError\u001b[0m: Session.__init__() got an unexpected keyword argument 'profile_name'"
     ]
    }
   ],
   "source": [
    "sm_boto3 = boto3.client(\"sagemaker\")\n",
    "sess = sagemaker.Session()\n",
    "region = sess.boto_session.region_name\n",
    "bucket = \"forecasting-performance\"\n",
    "print(\"Using bucket \" + bucket)"
   ]
  },
  {
   "cell_type": "code",
   "execution_count": 15,
   "metadata": {},
   "outputs": [
    {
     "data": {
      "text/plain": [
       "{'NotebookInstances': [{'NotebookInstanceName': 'Forecasting',\n",
       "   'NotebookInstanceArn': 'arn:aws:sagemaker:eu-central-1:652226517449:notebook-instance/Forecasting',\n",
       "   'NotebookInstanceStatus': 'InService',\n",
       "   'Url': 'forecasting-6zgt.notebook.eu-central-1.sagemaker.aws',\n",
       "   'InstanceType': 'ml.t3.medium',\n",
       "   'CreationTime': datetime.datetime(2024, 3, 1, 12, 3, 39, 50000, tzinfo=tzlocal()),\n",
       "   'LastModifiedTime': datetime.datetime(2024, 3, 1, 12, 6, 57, 939000, tzinfo=tzlocal()),\n",
       "   'DefaultCodeRepository': 'https://github.com/ElshanCh/Performance_Prediction.git'}],\n",
       " 'ResponseMetadata': {'RequestId': '5af4595e-46fd-4f2e-b1c4-ea078151df9c',\n",
       "  'HTTPStatusCode': 200,\n",
       "  'HTTPHeaders': {'x-amzn-requestid': '5af4595e-46fd-4f2e-b1c4-ea078151df9c',\n",
       "   'content-type': 'application/x-amz-json-1.1',\n",
       "   'content-length': '436',\n",
       "   'date': 'Fri, 01 Mar 2024 13:50:36 GMT'},\n",
       "  'RetryAttempts': 0}}"
      ]
     },
     "execution_count": 15,
     "metadata": {},
     "output_type": "execute_result"
    }
   ],
   "source": [
    "import boto3\n",
    "session = boto3.Session(profile_name=\"Assume-role-Developer\")\n",
    "sm = session.client(\"sagemaker\")\n",
    "sm.list_notebook_instances()"
   ]
  }
 ],
 "metadata": {
  "kernelspec": {
   "display_name": "env_performance",
   "language": "python",
   "name": "python3"
  },
  "language_info": {
   "codemirror_mode": {
    "name": "ipython",
    "version": 3
   },
   "file_extension": ".py",
   "mimetype": "text/x-python",
   "name": "python",
   "nbconvert_exporter": "python",
   "pygments_lexer": "ipython3",
   "version": "3.10.12"
  }
 },
 "nbformat": 4,
 "nbformat_minor": 2
}
